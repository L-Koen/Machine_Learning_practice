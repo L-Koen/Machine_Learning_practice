{
 "cells": [
  {
   "cell_type": "markdown",
   "id": "38791dbc",
   "metadata": {},
   "source": [
    "# Machine learning for image classification project"
   ]
  },
  {
   "cell_type": "markdown",
   "id": "cb1f41b7",
   "metadata": {},
   "source": [
    "The goal of the project will be to build a functional, flexible and modular ML model in python for image classification as a practice."
   ]
  },
  {
   "cell_type": "markdown",
   "id": "e56f52c9",
   "metadata": {},
   "source": [
    "## Scope: do build and optimize a machine learning model on a image classification task. \n",
    "As the project advances I hope to be able to investigate a bit the trade-offs between number of classes included, precision and the space of the hyperparameters that is searched."
   ]
  },
  {
   "cell_type": "markdown",
   "id": "37f27c16",
   "metadata": {},
   "source": [
    "## Import modules\n",
    "I like to keep track of all modules used in the project by importing them on top"
   ]
  },
  {
   "cell_type": "code",
   "execution_count": 143,
   "id": "a94db793",
   "metadata": {},
   "outputs": [],
   "source": [
    "import numpy as np\n",
    "import pandas as pd\n",
    "import pickle\n",
    "import matplotlib.pyplot as plt\n",
    "from skimage.feature import hog\n",
    "from sklearn.pipeline import Pipeline\n",
    "from sklearn.model_selection import GridSearchCV, RandomizedSearchCV\n",
    "from sklearn.preprocessing import StandardScaler\n",
    "from sklearn.base import BaseEstimator, TransformerMixin\n",
    "from joblib import Parallel, delayed, dump, load\n",
    "from sklearn.linear_model import SGDClassifier\n",
    "from sklearn.metrics import classification_report\n",
    "from sklearn.metrics import ConfusionMatrixDisplay\n",
    "from IPython.display import display"
   ]
  },
  {
   "cell_type": "markdown",
   "id": "caab4ab2",
   "metadata": {},
   "source": [
    "## Loading and preparing the dataset"
   ]
  },
  {
   "cell_type": "markdown",
   "id": "a01cf37b",
   "metadata": {},
   "source": [
    "I will be using the [CIFAR-10](https://www.cs.toronto.edu/~kriz/cifar.html) dataset.\n",
    "For more info check Chapter 3 of this tech report:\n",
    "- [Learning Multiple Layers of Features from Tiny Images](https://www.cs.toronto.edu/~kriz/learning-features-2009-TR.pdf), Alex Krizhevsky, 2009.\n",
    "\n",
    "The CIFAR-10 dataset consists of 60000 32x32 colour images in 10 classes, with 6000 images per class. There are 50000 training images and 10000 test images.\n",
    "\n",
    "The dataset is divided into five training batches and one test batch, each with 10000 images. The test batch contains exactly 1000 randomly-selected images from each class. The training batches contain the remaining images in random order, but some training batches may contain more images from one class than another. Between them, the training batches contain exactly 5000 images from each class. \n",
    "\n",
    "First I will define some functions to load and reshape the data as needed. Then I will load the dataset, leaving flexibility for the amount of batches loaded. I shal plot some images to check that de data was loaded correctly.\n",
    "\n",
    "Loading the test data will only be done after training the model."
   ]
  },
  {
   "cell_type": "code",
   "execution_count": 135,
   "id": "b5442664",
   "metadata": {},
   "outputs": [],
   "source": [
    "# This code is for the pickled version of the data, prepared for Python\n",
    "\n",
    "# Change this according to your needs\n",
    "path_to_data = r\"../cifar-10-batches-py/\"\n",
    "\n",
    "class Training_data():\n",
    "    \"\"\"\n",
    "    Class to load and hold the training data that we want.\n",
    "    \"\"\"\n",
    "    def __init__(self, path, batches):\n",
    "        \"\"\"\n",
    "        Get the path, the batches we want to load, and call the loading routine for each batch\n",
    "        Also, Load the dict to convert label to human readable.\n",
    "        \"\"\"\n",
    "        self.path = path\n",
    "        self.batches = batches\n",
    "        self.loadnames()\n",
    "        for batch in batches:\n",
    "            if batch == batches[0]:\n",
    "                self.data, self.labels = self.load(batch)\n",
    "            else:\n",
    "                new_data, new_labels = self.load(batch)\n",
    "                self.data = np.row_stack((self.data, new_data))\n",
    "                self.labels += new_labels\n",
    "            \n",
    "    def load(self, batch):\n",
    "        \"\"\"\n",
    "        Load the batch file, and return the data structured.\n",
    "        \"\"\"\n",
    "        file = self.path + \"data_batch_\" + str(batch)\n",
    "        batch_file = self.unpickle(file)\n",
    "        return self.structure(batch_file[b'data'], batch_file[b'labels'])\n",
    "        \n",
    "    def unpickle(self, file):\n",
    "        \"\"\"\n",
    "        Method to load the pickled version of the dataset.\n",
    "        \"\"\"\n",
    "        with open(file, \"rb\") as fo:\n",
    "            im_dict = pickle.load(fo, encoding = \"bytes\")\n",
    "        return im_dict\n",
    "    \n",
    "    def structure(self, data, labels):\n",
    "        \"\"\"\n",
    "        Reshape the 1D image data to the correct shape for image viewing with matplotlib\n",
    "        \"\"\"\n",
    "        data = np.reshape(data, (-1, 3, 32, 32))\n",
    "        data = np.transpose(data, (0, 2, 3, 1))\n",
    "        return data, labels\n",
    "    \n",
    "    def loadnames(self):\n",
    "        labeldict = self.unpickle(self.path + \"batches.meta\")\n",
    "        self.labelnames = {}\n",
    "        for i in range(10):\n",
    "            self.labelnames[i] = labeldict[b'label_names'][i].decode()"
   ]
  },
  {
   "cell_type": "markdown",
   "id": "3cfc7001",
   "metadata": {},
   "source": [
    "Now use the defined class to load the data"
   ]
  },
  {
   "cell_type": "code",
   "execution_count": 3,
   "id": "f19cf7bb",
   "metadata": {},
   "outputs": [],
   "source": [
    "training_data = Training_data(path_to_data, [1])"
   ]
  },
  {
   "cell_type": "markdown",
   "id": "437fd284",
   "metadata": {},
   "source": [
    "Show the image for a given datapoint, and plot the human readable label to check if the provided data makes sense"
   ]
  },
  {
   "cell_type": "code",
   "execution_count": 26,
   "id": "a6b4b4a8",
   "metadata": {},
   "outputs": [
    {
     "data": {
      "image/png": "[encoded data removed]",
      "text/plain": [
       "<Figure size 360x360 with 1 Axes>"
      ]
     },
     "metadata": {
      "needs_background": "light"
     },
     "output_type": "display_data"
    }
   ],
   "source": [
    "# Insert datapoint here\n",
    "datapoint = 7\n",
    "\n",
    "# Plot and add label as title\n",
    "plt.figure(figsize = (5, 5))\n",
    "plt.imshow(training_data.data[datapoint])\n",
    "plt.title(\"This is a \" + training_data.labelnames[training_data.labels[datapoint]] + \".\", fontsize = 20)\n",
    "plt.axis('off')\n",
    "plt.show()"
   ]
  },
  {
   "cell_type": "markdown",
   "id": "01100286",
   "metadata": {},
   "source": [
    "## Feature engineering\n",
    "Just blindly fitting a model might not work, or take very long to train.\n",
    "Some reduction of the size of the dataset before fitting would come in handy.\n",
    "\n",
    "As we are working with images, one of the most common reduction methods is going for a historgam of oriented gradients (HOG).\n",
    "scikit-image has a provision for that.\n",
    "\n",
    "Again, we will try to plot what we are doing with the data."
   ]
  },
  {
   "cell_type": "markdown",
   "id": "93d135aa",
   "metadata": {},
   "source": [
    "First, check what our HOG does to our previously plotted datapoint, and the remaining feature size.\n",
    "\n",
    "Remember the full picture is 32×32×3 = 3072"
   ]
  },
  {
   "cell_type": "code",
   "execution_count": 100,
   "id": "75a57812",
   "metadata": {},
   "outputs": [
    {
     "data": {
      "image/png": "[encoded data removed]",
      "text/plain": [
       "<Figure size 360x360 with 1 Axes>"
      ]
     },
     "metadata": {
      "needs_background": "light"
     },
     "output_type": "display_data"
    },
    {
     "name": "stdout",
     "output_type": "stream",
     "text": [
      "The new feature size is 512 points.\n"
     ]
    }
   ],
   "source": [
    "hog_options = {\"pixels_per_cell\" : (6,6),\n",
    "               \"cells_per_block\" : (2, 2),\n",
    "               \"orientations\" : 8,\n",
    "               \"block_norm\" : 'L2-Hys',\n",
    "               \"visualize\" : True, # For our example we want to see what we do\n",
    "               \"channel_axis\" : -1\n",
    "               }\n",
    "\n",
    "data_hog, data_im = hog(training_data.data[datapoint], **hog_options)\n",
    "\n",
    "plt.figure(figsize = (5, 5))\n",
    "plt.title(\"HOG image\")\n",
    "plt.imshow(data_im)\n",
    "plt.axis('off')\n",
    "plt.show()\n",
    "print(\"The new feature size is {} points.\".format(data_hog.size))"
   ]
  },
  {
   "cell_type": "markdown",
   "id": "0f11b426",
   "metadata": {},
   "source": [
    "## Creating a pipeline\n",
    "Now we create a pipeline that incorporates all preprocessing and model steps that we can later fine-tune"
   ]
  },
  {
   "cell_type": "markdown",
   "id": "5383ce9e",
   "metadata": {},
   "source": [
    "First we need a new class for our HOG Transformer.\n",
    "\n",
    "Joblib is used to parallelize the HOG calculation for speedup."
   ]
  },
  {
   "cell_type": "code",
   "execution_count": 101,
   "id": "efcfb392",
   "metadata": {},
   "outputs": [],
   "source": [
    "class HogTransformer(BaseEstimator, TransformerMixin):\n",
    "    \"\"\"\n",
    "    Expexts an array of RGB images\n",
    "    Calculates HOG for each image\n",
    "    For options see hog from scikit-image\n",
    "    \"\"\"\n",
    "    def __init__(self, pixels_per_cell = (7,7), cells_per_block = (2, 2), orientations = 8, block_norm = \"L2-Hys\",\n",
    "                  channel_axis = -1, jobs = 4):\n",
    "        self.pixels_per_cell = pixels_per_cell\n",
    "        self.cells_per_block = cells_per_block\n",
    "        self.orientations = orientations\n",
    "        self.block_norm = block_norm\n",
    "        self.channel_axis = channel_axis\n",
    "        self.jobs = jobs\n",
    "        \n",
    "    def fit(self, X, y=None):\n",
    "        return self\n",
    "    \n",
    "    def transform(self, X, y=None):\n",
    "        local_hog_options = {\"pixels_per_cell\" : self.pixels_per_cell,\n",
    "               \"cells_per_block\" : self.cells_per_block,\n",
    "               \"orientations\" : self.orientations,\n",
    "               \"block_norm\" : self.block_norm,\n",
    "               \"visualize\" : False,\n",
    "               \"channel_axis\" : self.channel_axis\n",
    "               }\n",
    "        return np.array(Parallel(n_jobs=self.jobs)(delayed(hog)(i, **local_hog_options) for i in X))\n",
    "        "
   ]
  },
  {
   "cell_type": "markdown",
   "id": "45d022e6",
   "metadata": {},
   "source": [
    "Now we can create our pipeline for the image clasification problem.\n",
    "\n",
    "HogTransform -> Scaler -> SVM\n",
    "\n",
    "To speed up things a SGD SVM is used for now"
   ]
  },
  {
   "cell_type": "code",
   "execution_count": 102,
   "id": "5329e2b1",
   "metadata": {},
   "outputs": [],
   "source": [
    "image_pipeline = Pipeline([(\"transformer\", HogTransformer(jobs = 6)), \n",
    "                           (\"scaler\", StandardScaler()), \n",
    "                           (\"classifier\", SGDClassifier(n_jobs = 6, max_iter = 10000))])"
   ]
  },
  {
   "cell_type": "code",
   "execution_count": 103,
   "id": "cd5c87c7",
   "metadata": {},
   "outputs": [
    {
     "data": {
      "text/plain": [
       "Pipeline(steps=[('transformer', HogTransformer(jobs=6)),\n",
       "                ('scaler', StandardScaler()),\n",
       "                ('classifier', SGDClassifier(max_iter=10000, n_jobs=6))])"
      ]
     },
     "execution_count": 103,
     "metadata": {},
     "output_type": "execute_result"
    }
   ],
   "source": [
    "image_pipeline.fit(training_data.data, training_data.labels)"
   ]
  },
  {
   "cell_type": "markdown",
   "id": "0d29fc6c",
   "metadata": {},
   "source": [
    "## Testing the model\n",
    "Here we'll load the test data, and run some test before optimizing the model"
   ]
  },
  {
   "cell_type": "code",
   "execution_count": 104,
   "id": "a0d861d3",
   "metadata": {},
   "outputs": [],
   "source": [
    "class Test_Data(Training_data):\n",
    "    \"\"\"\n",
    "    Based on loading training data, but overwride some methods due to different fiole structure\n",
    "    \"\"\"\n",
    "    def __init__(self, path):\n",
    "        \"\"\"\n",
    "        Get the path, the batches we want to load, and call the loading routine for each batch\n",
    "        Also, Load the dict to convert label to human readable.\n",
    "        \"\"\"\n",
    "        self.path = path\n",
    "        self.data, self.labels = self.load()\n",
    "        \n",
    "    def load(self):\n",
    "        \"\"\"\n",
    "        Load the batch file, and return the data structured.\n",
    "        \"\"\"\n",
    "        file = self.path + \"test_batch\"\n",
    "        test_file = self.unpickle(file)\n",
    "        return self.structure(test_file[b'data'], test_file[b'labels'])"
   ]
  },
  {
   "cell_type": "code",
   "execution_count": 105,
   "id": "db146e61",
   "metadata": {},
   "outputs": [],
   "source": [
    "test_data = Test_Data(path_to_data)"
   ]
  },
  {
   "cell_type": "markdown",
   "id": "4afa263d",
   "metadata": {},
   "source": [
    "Now we can score the not optimized model:"
   ]
  },
  {
   "cell_type": "code",
   "execution_count": 106,
   "id": "65322ef0",
   "metadata": {},
   "outputs": [
    {
     "name": "stdout",
     "output_type": "stream",
     "text": [
      "Score of the model as is is: 0.4004.\n"
     ]
    }
   ],
   "source": [
    "init_score = image_pipeline.score(test_data.data, test_data.labels)\n",
    "print(\"Score of the model as is is: {}.\".format(init_score))"
   ]
  },
  {
   "cell_type": "markdown",
   "id": "8b7cc12c",
   "metadata": {},
   "source": [
    "## Optimizing the model\n",
    "Using scikit-learns GridSearchCV, RandomizedSearchCV to optimize parameters"
   ]
  },
  {
   "cell_type": "markdown",
   "id": "6a6fcbe6",
   "metadata": {},
   "source": [
    "Start by defining a search space of the relevant parameters:"
   ]
  },
  {
   "cell_type": "code",
   "execution_count": 107,
   "id": "e9b6d5a4",
   "metadata": {},
   "outputs": [],
   "source": [
    "search_space = {\"transformer__pixels_per_cell\" : [(5,5), (6,6), (7,7), (8,8)],\n",
    "                \"transformer__cells_per_block\" : [(2, 2), (3,3), (4,4)],\n",
    "                \"transformer__orientations\" : [6,7,8,9],\n",
    "                \"transformer__block_norm\" : [\"L1\", \"L1-sqrt\", \"L2\", \"L2-Hys\"],\n",
    "                \"classifier__alpha\" : np.geomspace(0.0001, 100, 7)}"
   ]
  },
  {
   "cell_type": "markdown",
   "id": "f5f35102",
   "metadata": {},
   "source": [
    "As there are loads of parameters, create a randomized search"
   ]
  },
  {
   "cell_type": "code",
   "execution_count": 108,
   "id": "842b0cd5",
   "metadata": {},
   "outputs": [],
   "source": [
    "rscv = RandomizedSearchCV(image_pipeline, search_space, n_iter = 50)"
   ]
  },
  {
   "cell_type": "markdown",
   "id": "504b87ec",
   "metadata": {},
   "source": [
    "Now do the optimization of the hyperparameters of the pipeline"
   ]
  },
  {
   "cell_type": "code",
   "execution_count": 109,
   "id": "39d192c4",
   "metadata": {},
   "outputs": [
    {
     "data": {
      "text/plain": [
       "RandomizedSearchCV(estimator=Pipeline(steps=[('transformer',\n",
       "                                              HogTransformer(jobs=6)),\n",
       "                                             ('scaler', StandardScaler()),\n",
       "                                             ('classifier',\n",
       "                                              SGDClassifier(max_iter=10000,\n",
       "                                                            n_jobs=6))]),\n",
       "                   n_iter=50,\n",
       "                   param_distributions={'classifier__alpha': array([1.e-04, 1.e-03, 1.e-02, 1.e-01, 1.e+00, 1.e+01, 1.e+02]),\n",
       "                                        'transformer__block_norm': ['L1',\n",
       "                                                                    'L1-sqrt',\n",
       "                                                                    'L2',\n",
       "                                                                    'L2-Hys'],\n",
       "                                        'transformer__cells_per_block': [(2, 2),\n",
       "                                                                         (3, 3),\n",
       "                                                                         (4,\n",
       "                                                                          4)],\n",
       "                                        'transformer__orientations': [6, 7, 8,\n",
       "                                                                      9],\n",
       "                                        'transformer__pixels_per_cell': [(5, 5),\n",
       "                                                                         (6, 6),\n",
       "                                                                         (7, 7),\n",
       "                                                                         (8,\n",
       "                                                                          8)]})"
      ]
     },
     "execution_count": 109,
     "metadata": {},
     "output_type": "execute_result"
    }
   ],
   "source": [
    "rscv.fit(training_data.data, training_data.labels)"
   ]
  },
  {
   "cell_type": "markdown",
   "id": "744fa19e",
   "metadata": {},
   "source": [
    "As optimization takes a long time: save the results to an external file"
   ]
  },
  {
   "cell_type": "code",
   "execution_count": 116,
   "id": "29a9825f",
   "metadata": {},
   "outputs": [
    {
     "data": {
      "text/plain": [
       "['rscv_result.joblib']"
      ]
     },
     "execution_count": 116,
     "metadata": {},
     "output_type": "execute_result"
    }
   ],
   "source": [
    "filename = \"rscv_result.joblib\"\n",
    "dump(rscv, filename)\n",
    "\n"
   ]
  },
  {
   "cell_type": "markdown",
   "id": "602a5479",
   "metadata": {},
   "source": [
    "### Now let's analise the optimization results"
   ]
  },
  {
   "cell_type": "markdown",
   "id": "e436bbde",
   "metadata": {},
   "source": [
    "First, check the parameters of the best model"
   ]
  },
  {
   "cell_type": "code",
   "execution_count": 124,
   "id": "b7051aa9",
   "metadata": {},
   "outputs": [
    {
     "name": "stdout",
     "output_type": "stream",
     "text": [
      "Pipeline(steps=[('transformer',\n",
      "                 HogTransformer(block_norm='L2', jobs=6,\n",
      "                                pixels_per_cell=(6, 6))),\n",
      "                ('scaler', StandardScaler()),\n",
      "                ('classifier',\n",
      "                 SGDClassifier(alpha=0.1, max_iter=10000, n_jobs=6))])\n"
     ]
    }
   ],
   "source": [
    "print(rscv.best_estimator_)"
   ]
  },
  {
   "cell_type": "markdown",
   "id": "2e71f5e7",
   "metadata": {},
   "source": [
    "Now see if we can learn something of the best 10 models"
   ]
  },
  {
   "cell_type": "code",
   "execution_count": 125,
   "id": "aabb7af8",
   "metadata": {},
   "outputs": [
    {
     "data": {
      "text/html": [
       "<div>\n",
       "<style scoped>\n",
       "    .dataframe tbody tr th:only-of-type {\n",
       "        vertical-align: middle;\n",
       "    }\n",
       "\n",
       "    .dataframe tbody tr th {\n",
       "        vertical-align: top;\n",
       "    }\n",
       "\n",
       "    .dataframe thead th {\n",
       "        text-align: right;\n",
       "    }\n",
       "</style>\n",
       "<table border=\"1\" class=\"dataframe\">\n",
       "  <thead>\n",
       "    <tr style=\"text-align: right;\">\n",
       "      <th></th>\n",
       "      <th>transformer__pixels_per_cell</th>\n",
       "      <th>transformer__orientations</th>\n",
       "      <th>transformer__cells_per_block</th>\n",
       "      <th>transformer__block_norm</th>\n",
       "      <th>classifier__alpha</th>\n",
       "      <th>Accuracy</th>\n",
       "    </tr>\n",
       "  </thead>\n",
       "  <tbody>\n",
       "    <tr>\n",
       "      <th>34</th>\n",
       "      <td>(6, 6)</td>\n",
       "      <td>8</td>\n",
       "      <td>(2, 2)</td>\n",
       "      <td>L2</td>\n",
       "      <td>0.10</td>\n",
       "      <td>0.4987</td>\n",
       "    </tr>\n",
       "    <tr>\n",
       "      <th>2</th>\n",
       "      <td>(6, 6)</td>\n",
       "      <td>8</td>\n",
       "      <td>(4, 4)</td>\n",
       "      <td>L2</td>\n",
       "      <td>0.01</td>\n",
       "      <td>0.4902</td>\n",
       "    </tr>\n",
       "    <tr>\n",
       "      <th>22</th>\n",
       "      <td>(5, 5)</td>\n",
       "      <td>7</td>\n",
       "      <td>(4, 4)</td>\n",
       "      <td>L1-sqrt</td>\n",
       "      <td>0.10</td>\n",
       "      <td>0.4891</td>\n",
       "    </tr>\n",
       "    <tr>\n",
       "      <th>16</th>\n",
       "      <td>(6, 6)</td>\n",
       "      <td>8</td>\n",
       "      <td>(3, 3)</td>\n",
       "      <td>L1-sqrt</td>\n",
       "      <td>0.10</td>\n",
       "      <td>0.4886</td>\n",
       "    </tr>\n",
       "    <tr>\n",
       "      <th>10</th>\n",
       "      <td>(6, 6)</td>\n",
       "      <td>6</td>\n",
       "      <td>(3, 3)</td>\n",
       "      <td>L1-sqrt</td>\n",
       "      <td>0.01</td>\n",
       "      <td>0.4828</td>\n",
       "    </tr>\n",
       "    <tr>\n",
       "      <th>12</th>\n",
       "      <td>(8, 8)</td>\n",
       "      <td>7</td>\n",
       "      <td>(3, 3)</td>\n",
       "      <td>L2-Hys</td>\n",
       "      <td>0.10</td>\n",
       "      <td>0.4824</td>\n",
       "    </tr>\n",
       "    <tr>\n",
       "      <th>7</th>\n",
       "      <td>(6, 6)</td>\n",
       "      <td>6</td>\n",
       "      <td>(4, 4)</td>\n",
       "      <td>L1-sqrt</td>\n",
       "      <td>0.10</td>\n",
       "      <td>0.4813</td>\n",
       "    </tr>\n",
       "    <tr>\n",
       "      <th>29</th>\n",
       "      <td>(5, 5)</td>\n",
       "      <td>9</td>\n",
       "      <td>(3, 3)</td>\n",
       "      <td>L2-Hys</td>\n",
       "      <td>1.00</td>\n",
       "      <td>0.4774</td>\n",
       "    </tr>\n",
       "    <tr>\n",
       "      <th>46</th>\n",
       "      <td>(5, 5)</td>\n",
       "      <td>7</td>\n",
       "      <td>(4, 4)</td>\n",
       "      <td>L1-sqrt</td>\n",
       "      <td>1.00</td>\n",
       "      <td>0.4772</td>\n",
       "    </tr>\n",
       "    <tr>\n",
       "      <th>21</th>\n",
       "      <td>(6, 6)</td>\n",
       "      <td>9</td>\n",
       "      <td>(3, 3)</td>\n",
       "      <td>L2</td>\n",
       "      <td>1.00</td>\n",
       "      <td>0.4722</td>\n",
       "    </tr>\n",
       "  </tbody>\n",
       "</table>\n",
       "</div>"
      ],
      "text/plain": [
       "   transformer__pixels_per_cell  transformer__orientations  \\\n",
       "34                       (6, 6)                          8   \n",
       "2                        (6, 6)                          8   \n",
       "22                       (5, 5)                          7   \n",
       "16                       (6, 6)                          8   \n",
       "10                       (6, 6)                          6   \n",
       "12                       (8, 8)                          7   \n",
       "7                        (6, 6)                          6   \n",
       "29                       (5, 5)                          9   \n",
       "46                       (5, 5)                          7   \n",
       "21                       (6, 6)                          9   \n",
       "\n",
       "   transformer__cells_per_block transformer__block_norm  classifier__alpha  \\\n",
       "34                       (2, 2)                      L2               0.10   \n",
       "2                        (4, 4)                      L2               0.01   \n",
       "22                       (4, 4)                 L1-sqrt               0.10   \n",
       "16                       (3, 3)                 L1-sqrt               0.10   \n",
       "10                       (3, 3)                 L1-sqrt               0.01   \n",
       "12                       (3, 3)                  L2-Hys               0.10   \n",
       "7                        (4, 4)                 L1-sqrt               0.10   \n",
       "29                       (3, 3)                  L2-Hys               1.00   \n",
       "46                       (4, 4)                 L1-sqrt               1.00   \n",
       "21                       (3, 3)                      L2               1.00   \n",
       "\n",
       "    Accuracy  \n",
       "34    0.4987  \n",
       "2     0.4902  \n",
       "22    0.4891  \n",
       "16    0.4886  \n",
       "10    0.4828  \n",
       "12    0.4824  \n",
       "7     0.4813  \n",
       "29    0.4774  \n",
       "46    0.4772  \n",
       "21    0.4722  "
      ]
     },
     "metadata": {},
     "output_type": "display_data"
    }
   ],
   "source": [
    "# Create and display Pandas DataFrame\n",
    "df = pd.concat([pd.DataFrame(rscv.cv_results_['params']), pd.DataFrame(rscv.cv_results_['mean_test_score'], columns=['Accuracy'])], axis=1)\n",
    "cv_table = df.sort_values(\"Accuracy\", ascending = False)\n",
    "display(cv_table.head(10))"
   ]
  },
  {
   "cell_type": "markdown",
   "id": "4d6b9c89",
   "metadata": {},
   "source": [
    "And how does the model score on the test data:"
   ]
  },
  {
   "cell_type": "code",
   "execution_count": 112,
   "id": "0b72c20a",
   "metadata": {},
   "outputs": [
    {
     "name": "stdout",
     "output_type": "stream",
     "text": [
      "Score of the optimized model is: 0.5045.\n"
     ]
    }
   ],
   "source": [
    "cv_score = rscv.score(test_data.data, test_data.labels)\n",
    "print(\"Score of the optimized model is: {}.\".format(cv_score))"
   ]
  },
  {
   "cell_type": "markdown",
   "id": "7fe7678d",
   "metadata": {},
   "source": [
    "## Fitting model on full dataset\n",
    "I optimized on a reduced portion in order to speed up optimization time"
   ]
  },
  {
   "cell_type": "code",
   "execution_count": 140,
   "id": "6d72234e",
   "metadata": {},
   "outputs": [],
   "source": [
    "training_data_full = Training_data(path_to_data, [1, 2, 3, 4, 5])\n",
    "optimized_pipeline = rscv.best_estimator_"
   ]
  },
  {
   "cell_type": "code",
   "execution_count": 141,
   "id": "ed83f6c5",
   "metadata": {},
   "outputs": [
    {
     "data": {
      "text/plain": [
       "Pipeline(steps=[('transformer',\n",
       "                 HogTransformer(block_norm='L2', jobs=6,\n",
       "                                pixels_per_cell=(6, 6))),\n",
       "                ('scaler', StandardScaler()),\n",
       "                ('classifier',\n",
       "                 SGDClassifier(alpha=0.1, max_iter=10000, n_jobs=6))])"
      ]
     },
     "execution_count": 141,
     "metadata": {},
     "output_type": "execute_result"
    }
   ],
   "source": [
    "optimized_pipeline.fit(training_data_full.data, training_data_full.labels)"
   ]
  },
  {
   "cell_type": "code",
   "execution_count": 142,
   "id": "e48a2d44",
   "metadata": {},
   "outputs": [
    {
     "name": "stdout",
     "output_type": "stream",
     "text": [
      "Score of the optimized model trained on the full dataset is: 0.5045.\n"
     ]
    }
   ],
   "source": [
    "full_score = optimized_pipeline.score(test_data.data, test_data.labels)\n",
    "print(\"Score of the optimized model trained on the full dataset is: {}.\".format(cv_score))"
   ]
  },
  {
   "cell_type": "markdown",
   "id": "814282bd",
   "metadata": {},
   "source": [
    "## More analysis\n",
    "50% score with 10 classes is better than random guess. But where do we go wrong.\n",
    "Let's create a confusion matrix to see if there are some obvious issues"
   ]
  },
  {
   "cell_type": "code",
   "execution_count": 149,
   "id": "20786366",
   "metadata": {},
   "outputs": [
    {
     "name": "stdout",
     "output_type": "stream",
     "text": [
      "              precision    recall  f1-score   support\n",
      "\n",
      "    airplane       0.58      0.57      0.58      1000\n",
      "  automobile       0.58      0.63      0.60      1000\n",
      "        bird       0.43      0.36      0.39      1000\n",
      "         cat       0.42      0.26      0.32      1000\n",
      "        deer       0.46      0.40      0.43      1000\n",
      "         dog       0.45      0.41      0.43      1000\n",
      "        frog       0.51      0.69      0.59      1000\n",
      "       horse       0.48      0.62      0.54      1000\n",
      "        ship       0.60      0.50      0.54      1000\n",
      "       truck       0.58      0.71      0.64      1000\n",
      "\n",
      "    accuracy                           0.52     10000\n",
      "   macro avg       0.51      0.52      0.51     10000\n",
      "weighted avg       0.51      0.52      0.51     10000\n",
      "\n"
     ]
    },
    {
     "data": {
      "image/png": "[encoded data removed]",
      "text/plain": [
       "<Figure size 432x288 with 2 Axes>"
      ]
     },
     "metadata": {
      "needs_background": "light"
     },
     "output_type": "display_data"
    }
   ],
   "source": [
    "y_pred = optimized_pipeline.predict(test_data.data)\n",
    "labels = list(training_data_full.labelnames.values())\n",
    "print(classification_report(test_data.labels, y_pred, target_names=labels))\n",
    "ConfusionMatrixDisplay.from_estimator(\n",
    "    optimized_pipeline, test_data.data, test_data.labels, display_labels=labels, xticks_rotation=\"vertical\"\n",
    ")\n",
    "plt.tight_layout()\n",
    "plt.show()"
   ]
  },
  {
   "cell_type": "markdown",
   "id": "e4dad844",
   "metadata": {},
   "source": [
    "## Conclusion"
   ]
  },
  {
   "cell_type": "markdown",
   "id": "6a00117d",
   "metadata": {},
   "source": [
    "It seems that the pipeline developped here works reasonably for the identification of images of a few classes. E.g., especially trucks are well recognized. However, some other categories give problems.\n",
    "\n",
    "Using a SGD SVM classifier was always going to be a bit optimistic with image recognition. However, combining it with the HOG transform, we got a pipeline that we could optimize on a simple laptop which gives results that are much better than random guesses.\n",
    "\n",
    "Future seps can involve improving the pre-processor (HOG-PCA comes to mind), or working on an aggregation of estimators.\n",
    "However, it is probably best for me to start learning more about neural networks for image recognition."
   ]
  },
  {
   "cell_type": "code",
   "execution_count": null,
   "id": "a7413517",
   "metadata": {},
   "outputs": [],
   "source": []
  }
 ],
 "metadata": {
  "kernelspec": {
   "display_name": "Python 3 (ipykernel)",
   "language": "python",
   "name": "python3"
  },
  "language_info": {
   "codemirror_mode": {
    "name": "ipython",
    "version": 3
   },
   "file_extension": ".py",
   "mimetype": "text/x-python",
   "name": "python",
   "nbconvert_exporter": "python",
   "pygments_lexer": "ipython3",
   "version": "3.10.4"
  }
 },
 "nbformat": 4,
 "nbformat_minor": 5
}
