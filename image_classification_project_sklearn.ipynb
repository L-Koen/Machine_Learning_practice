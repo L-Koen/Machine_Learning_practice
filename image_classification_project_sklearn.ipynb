{
 "cells": [
  {
   "cell_type": "markdown",
   "id": "38791dbc",
   "metadata": {},
   "source": [
    "# Machine learning for image classification project"
   ]
  },
  {
   "cell_type": "markdown",
   "id": "cb1f41b7",
   "metadata": {},
   "source": [
    "The goal of the project will be to build a functional, flexible and modular ML model in python for image classification as a practice."
   ]
  },
  {
   "cell_type": "code",
   "execution_count": null,
   "id": "a94db793",
   "metadata": {},
   "outputs": [],
   "source": []
  }
 ],
 "metadata": {
  "kernelspec": {
   "display_name": "Python 3 (ipykernel)",
   "language": "python",
   "name": "python3"
  },
  "language_info": {
   "codemirror_mode": {
    "name": "ipython",
    "version": 3
   },
   "file_extension": ".py",
   "mimetype": "text/x-python",
   "name": "python",
   "nbconvert_exporter": "python",
   "pygments_lexer": "ipython3",
   "version": "3.10.9"
  }
 },
 "nbformat": 4,
 "nbformat_minor": 5
}
