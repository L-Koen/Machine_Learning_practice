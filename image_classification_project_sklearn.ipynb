{
 "cells": [
  {
   "cell_type": "markdown",
   "id": "38791dbc",
   "metadata": {},
   "source": [
    "# Machine learning for image classification project"
   ]
  },
  {
   "cell_type": "markdown",
   "id": "cb1f41b7",
   "metadata": {},
   "source": [
    "The goal of the project will be to build a functional, flexible and modular ML model in python for image classification as a practice."
   ]
  },
  {
   "cell_type": "markdown",
   "id": "ecdaae51",
   "metadata": {},
   "source": [
    "## Scope: do build and optimize a machine learning model on a image classification task. \n",
    "As the project advances I hope to be able to investigate a bit the trade-offs between number of classes included, precision and the space of the hyperparameters that is searched."
   ]
  },
  {
   "cell_type": "markdown",
   "id": "2fd6ca66",
   "metadata": {},
   "source": [
    "## Import modules\n",
    "I like to keep track of all modules used in the project by importing them on top"
   ]
  },
  {
   "cell_type": "code",
   "execution_count": 1,
   "id": "a94db793",
   "metadata": {},
   "outputs": [],
   "source": [
    "import numpy as np\n",
    "import pickle\n",
    "import matplotlib.pyplot as plt\n",
    "from skimage.feature import hog"
   ]
  },
  {
   "cell_type": "markdown",
   "id": "69342ae0",
   "metadata": {},
   "source": [
    "## Loading and preparing the dataset"
   ]
  },
  {
   "cell_type": "markdown",
   "id": "eeaa540b",
   "metadata": {},
   "source": [
    "I will be using the [CIFAR-10](https://www.cs.toronto.edu/~kriz/cifar.html) dataset.\n",
    "For more info check Chapter 3 of this tech report:\n",
    "- [Learning Multiple Layers of Features from Tiny Images](https://www.cs.toronto.edu/~kriz/learning-features-2009-TR.pdf), Alex Krizhevsky, 2009.\n",
    "\n",
    "The CIFAR-10 dataset consists of 60000 32x32 colour images in 10 classes, with 6000 images per class. There are 50000 training images and 10000 test images.\n",
    "\n",
    "The dataset is divided into five training batches and one test batch, each with 10000 images. The test batch contains exactly 1000 randomly-selected images from each class. The training batches contain the remaining images in random order, but some training batches may contain more images from one class than another. Between them, the training batches contain exactly 5000 images from each class. \n",
    "\n",
    "First I will define some functions to load and reshape the data as needed. Then I will load the dataset, leaving flexibility for the amount of batches loaded. I shal plot some images to check that de data was loaded correctly.\n",
    "\n",
    "Loading the test data will only be done after training the model."
   ]
  },
  {
   "cell_type": "code",
   "execution_count": 2,
   "id": "c4d24a84",
   "metadata": {},
   "outputs": [],
   "source": [
    "# This code is for the pickled version of the data, prepared for Python\n",
    "\n",
    "# Change this according to your needs\n",
    "path_to_data = r\"../cifar-10-batches-py/\"\n",
    "\n",
    "class Training_data():\n",
    "    \"\"\"\n",
    "    Class to load and hold the training data that we want.\n",
    "    \"\"\"\n",
    "    def __init__(self, path, batches):\n",
    "        \"\"\"\n",
    "        Get the path, the batches we want to load, and call the loading routine for each batch\n",
    "        Also, Load the dict to convert label to human readable.\n",
    "        \"\"\"\n",
    "        self.path = path\n",
    "        self.batches = batches\n",
    "        self.loadnames()\n",
    "        for batch in batches:\n",
    "            if batch == batches[0]:\n",
    "                self.data, self.labels = self.load(batch)\n",
    "            else:\n",
    "                new_data, new_labels = self.load(batch)\n",
    "                self.data = np.row_stack((self.data, new_data))\n",
    "                self.labels.append(new_labels)\n",
    "            \n",
    "    def load(self, batch):\n",
    "        \"\"\"\n",
    "        Load the batch file, and return the data structured.\n",
    "        \"\"\"\n",
    "        file = self.path + \"data_batch_\" + str(batch)\n",
    "        batch_file = self.unpickle(file)\n",
    "        return self.structure(batch_file[b'data'], batch_file[b'labels'])\n",
    "        \n",
    "    def unpickle(self, file):\n",
    "        \"\"\"\n",
    "        Method to load the pickled version of the dataset.\n",
    "        \"\"\"\n",
    "        with open(file, \"rb\") as fo:\n",
    "            im_dict = pickle.load(fo, encoding = \"bytes\")\n",
    "        return im_dict\n",
    "    \n",
    "    def structure(self, data, labels):\n",
    "        \"\"\"\n",
    "        Reshape the 1D image data to the correct shape for image viewing with matplotlib\n",
    "        \"\"\"\n",
    "        data = np.reshape(data, (-1, 3, 32, 32))\n",
    "        data = np.transpose(data, (0, 2, 3, 1))\n",
    "        return data, labels\n",
    "    \n",
    "    def loadnames(self):\n",
    "        labeldict = self.unpickle(self.path + \"batches.meta\")\n",
    "        self.labelnames = {}\n",
    "        for i in range(10):\n",
    "            self.labelnames[i] = labeldict[b'label_names'][i].decode()"
   ]
  },
  {
   "cell_type": "markdown",
   "id": "3575ebce",
   "metadata": {},
   "source": [
    "Now use the defined class to load the data"
   ]
  },
  {
   "cell_type": "code",
   "execution_count": 3,
   "id": "0d1f91e8",
   "metadata": {},
   "outputs": [],
   "source": [
    "training_data = Training_data(path_to_data, [1])"
   ]
  },
  {
   "cell_type": "markdown",
   "id": "4f7c73f9",
   "metadata": {},
   "source": [
    "Show the image for a given datapoint, and plot the human readable label to check if the provided data makes sense"
   ]
  },
  {
   "cell_type": "code",
   "execution_count": 26,
   "id": "58b7716e",
   "metadata": {},
   "outputs": [
    {
     "data": {
      "image/png": "[encoded data removed]",
      "text/plain": [
       "<Figure size 360x360 with 1 Axes>"
      ]
     },
     "metadata": {
      "needs_background": "light"
     },
     "output_type": "display_data"
    }
   ],
   "source": [
    "# Insert datapoint here\n",
    "datapoint = 7\n",
    "\n",
    "# Plot and add label as title\n",
    "plt.figure(figsize = (5, 5))\n",
    "plt.imshow(training_data.data[datapoint])\n",
    "plt.title(\"This is a \" + training_data.labelnames[training_data.labels[datapoint]] + \".\", fontsize = 20)\n",
    "plt.axis('off')\n",
    "plt.show()"
   ]
  },
  {
   "cell_type": "markdown",
   "id": "73b3ec44",
   "metadata": {},
   "source": [
    "## Feature engineering\n",
    "Just blindly fitting a model will not work.\n",
    "Some reduction of the size of the dataset before fitting would come in handy.\n",
    "\n",
    "As we are working with images, one of the most common reduction methods is going for a historgam of oriented gradients (HOG).\n",
    "scikit-image has a provision for that.\n",
    "\n",
    "Again, we will try to plot what we are doing with the data."
   ]
  },
  {
   "cell_type": "markdown",
   "id": "f4105d3b",
   "metadata": {},
   "source": [
    "First, check what our HOG does to our previously plotted datapoint, and the remaining feature size.\n",
    "\n",
    "Remember the full picture is 32×32×3 = 3072"
   ]
  },
  {
   "cell_type": "code",
   "execution_count": 34,
   "id": "0481f10e",
   "metadata": {},
   "outputs": [
    {
     "data": {
      "image/png": "[encoded data removed]",
      "text/plain": [
       "<Figure size 432x288 with 1 Axes>"
      ]
     },
     "metadata": {
      "needs_background": "light"
     },
     "output_type": "display_data"
    },
    {
     "name": "stdout",
     "output_type": "stream",
     "text": [
      "288\n"
     ]
    }
   ],
   "source": [
    "hog_options = {\"pixels_per_cell\" : (7,7),\n",
    "               \"cells_per_block\" : (2, 2),\n",
    "               \"orientations\" : 8,\n",
    "               \"block_norm\" : 'L2-Hys',\n",
    "               \"visualize\" : True, # For our example we want to see what we do\n",
    "               \"channel_axis\" : -1\n",
    "               }\n",
    "\n",
    "data_hog, data_im = hog(training_data.data[datapoint], **hog_options)\n",
    "\n",
    "plt.imshow(data_im)\n",
    "plt.show()\n",
    "print(data_hog.size)"
   ]
  },
  {
   "cell_type": "code",
   "execution_count": null,
   "id": "c8131f39",
   "metadata": {},
   "outputs": [],
   "source": []
  },
  {
   "cell_type": "code",
   "execution_count": 21,
   "id": "11af7989",
   "metadata": {},
   "outputs": [
    {
     "data": {
      "text/plain": [
       "1024"
      ]
     },
     "execution_count": 21,
     "metadata": {},
     "output_type": "execute_result"
    }
   ],
   "source": [
    "32*32"
   ]
  },
  {
   "cell_type": "code",
   "execution_count": null,
   "id": "6ace15c5",
   "metadata": {},
   "outputs": [],
   "source": []
  },
  {
   "cell_type": "code",
   "execution_count": null,
   "id": "03e43b22",
   "metadata": {},
   "outputs": [],
   "source": []
  }
 ],
 "metadata": {
  "kernelspec": {
   "display_name": "Python 3 (ipykernel)",
   "language": "python",
   "name": "python3"
  },
  "language_info": {
   "codemirror_mode": {
    "name": "ipython",
    "version": 3
   },
   "file_extension": ".py",
   "mimetype": "text/x-python",
   "name": "python",
   "nbconvert_exporter": "python",
   "pygments_lexer": "ipython3",
   "version": "3.10.4"
  }
 },
 "nbformat": 4,
 "nbformat_minor": 5
}
